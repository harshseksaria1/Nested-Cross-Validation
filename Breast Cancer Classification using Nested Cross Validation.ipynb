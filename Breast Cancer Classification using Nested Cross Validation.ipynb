{
 "cells": [
  {
   "cell_type": "markdown",
   "metadata": {},
   "source": [
    "# Classification technique on the Breast Cancer dataset"
   ]
  },
  {
   "cell_type": "markdown",
   "metadata": {},
   "source": [
    "## Setup"
   ]
  },
  {
   "cell_type": "code",
   "execution_count": 2,
   "metadata": {},
   "outputs": [],
   "source": [
    "%matplotlib inline\n",
    "# import necessary libraries and specify that graphs should be plotted inline. \n",
    "from sklearn.datasets import load_breast_cancer\n",
    "from sklearn import tree,linear_model,neighbors, datasets\n",
    "from sklearn.model_selection import cross_val_score, train_test_split, GridSearchCV, KFold\n",
    "from sklearn.metrics import accuracy_score,confusion_matrix,classification_report, roc_curve, auc\n",
    "from sklearn.utils.multiclass import unique_labels\n",
    "from sklearn.exceptions import ConvergenceWarning\n",
    "from sklearn.svm import SVC\n",
    "from sklearn.preprocessing import label_binarize, StandardScaler\n",
    "from sklearn.ens import RandomForestClassifier\n",
    "import scikitplot as skplt\n",
    "import matplotlib.pyplot as plt\n",
    "import numpy as np"
   ]
  },
  {
   "cell_type": "code",
   "execution_count": 3,
   "metadata": {},
   "outputs": [],
   "source": [
    "# Ignoring warnings for clean output\n",
    "import warnings\n",
    "warnings.filterwarnings(\"ignore\", category=FutureWarning)\n",
    "warnings.filterwarnings(\"ignore\", category=ConvergenceWarning)\n",
    "warnings.filterwarnings(\"ignore\", category=DeprecationWarning)"
   ]
  },
  {
   "cell_type": "markdown",
   "metadata": {},
   "source": [
    "## Loading and Exploring the data"
   ]
  },
  {
   "cell_type": "code",
   "execution_count": 4,
   "metadata": {
    "scrolled": false
   },
   "outputs": [
    {
     "name": "stdout",
     "output_type": "stream",
     "text": [
      ".. _breast_cancer_dataset:\n",
      "\n",
      "Breast cancer wisconsin (diagnostic) dataset\n",
      "--------------------------------------------\n",
      "\n",
      "**Data Set Characteristics:**\n",
      "\n",
      "    :Number of Instances: 569\n",
      "\n",
      "    :Number of Attributes: 30 numeric, predictive attributes and the class\n",
      "\n",
      "    :Attribute Information:\n",
      "        - radius (mean of distances from center to points on the perimeter)\n",
      "        - texture (standard deviation of gray-scale values)\n",
      "        - perimeter\n",
      "        - area\n",
      "        - smoothness (local variation in radius lengths)\n",
      "        - compactness (perimeter^2 / area - 1.0)\n",
      "        - concavity (severity of concave portions of the contour)\n",
      "        - concave points (number of concave portions of the contour)\n",
      "        - symmetry \n",
      "        - fractal dimension (\"coastline approximation\" - 1)\n",
      "\n",
      "        The mean, standard error, and \"worst\" or largest (mean of the three\n",
      "        largest values) of these features were computed for each image,\n",
      "        resulting in 30 features.  For instance, field 3 is Mean Radius, field\n",
      "        13 is Radius SE, field 23 is Worst Radius.\n",
      "\n",
      "        - class:\n",
      "                - WDBC-Malignant\n",
      "                - WDBC-Benign\n",
      "\n",
      "    :Summary Statistics:\n",
      "\n",
      "    ===================================== ====== ======\n",
      "                                           Min    Max\n",
      "    ===================================== ====== ======\n",
      "    radius (mean):                        6.981  28.11\n",
      "    texture (mean):                       9.71   39.28\n",
      "    perimeter (mean):                     43.79  188.5\n",
      "    area (mean):                          143.5  2501.0\n",
      "    smoothness (mean):                    0.053  0.163\n",
      "    compactness (mean):                   0.019  0.345\n",
      "    concavity (mean):                     0.0    0.427\n",
      "    concave points (mean):                0.0    0.201\n",
      "    symmetry (mean):                      0.106  0.304\n",
      "    fractal dimension (mean):             0.05   0.097\n",
      "    radius (standard error):              0.112  2.873\n",
      "    texture (standard error):             0.36   4.885\n",
      "    perimeter (standard error):           0.757  21.98\n",
      "    area (standard error):                6.802  542.2\n",
      "    smoothness (standard error):          0.002  0.031\n",
      "    compactness (standard error):         0.002  0.135\n",
      "    concavity (standard error):           0.0    0.396\n",
      "    concave points (standard error):      0.0    0.053\n",
      "    symmetry (standard error):            0.008  0.079\n",
      "    fractal dimension (standard error):   0.001  0.03\n",
      "    radius (worst):                       7.93   36.04\n",
      "    texture (worst):                      12.02  49.54\n",
      "    perimeter (worst):                    50.41  251.2\n",
      "    area (worst):                         185.2  4254.0\n",
      "    smoothness (worst):                   0.071  0.223\n",
      "    compactness (worst):                  0.027  1.058\n",
      "    concavity (worst):                    0.0    1.252\n",
      "    concave points (worst):               0.0    0.291\n",
      "    symmetry (worst):                     0.156  0.664\n",
      "    fractal dimension (worst):            0.055  0.208\n",
      "    ===================================== ====== ======\n",
      "\n",
      "    :Missing Attribute Values: None\n",
      "\n",
      "    :Class Distribution: 212 - Malignant, 357 - Benign\n",
      "\n",
      "    :Creator:  Dr. William H. Wolberg, W. Nick Street, Olvi L. Mangasarian\n",
      "\n",
      "    :Donor: Nick Street\n",
      "\n",
      "    :Date: November, 1995\n",
      "\n",
      "This is a copy of UCI ML Breast Cancer Wisconsin (Diagnostic) datasets.\n",
      "https://goo.gl/U2Uwz2\n",
      "\n",
      "Features are computed from a digitized image of a fine needle\n",
      "aspirate (FNA) of a breast mass.  They describe\n",
      "characteristics of the cell nuclei present in the image.\n",
      "\n",
      "Separating plane described above was obtained using\n",
      "Multisurface Method-Tree (MSM-T) [K. P. Bennett, \"Decision Tree\n",
      "Construction Via Linear Programming.\" Proceedings of the 4th\n",
      "Midwest Artificial Intelligence and Cognitive Science Society,\n",
      "pp. 97-101, 1992], a classification method which uses linear\n",
      "programming to construct a decision tree.  Relevant features\n",
      "were selected using an exhaustive search in the space of 1-4\n",
      "features and 1-3 separating planes.\n",
      "\n",
      "The actual linear program used to obtain the separating plane\n",
      "in the 3-dimensional space is that described in:\n",
      "[K. P. Bennett and O. L. Mangasarian: \"Robust Linear\n",
      "Programming Discrimination of Two Linearly Inseparable Sets\",\n",
      "Optimization Methods and Software 1, 1992, 23-34].\n",
      "\n",
      "This database is also available through the UW CS ftp server:\n",
      "\n",
      "ftp ftp.cs.wisc.edu\n",
      "cd math-prog/cpo-dataset/machine-learn/WDBC/\n",
      "\n",
      ".. topic:: References\n",
      "\n",
      "   - W.N. Street, W.H. Wolberg and O.L. Mangasarian. Nuclear feature extraction \n",
      "     for breast tumor diagnosis. IS&T/SPIE 1993 International Symposium on \n",
      "     Electronic Imaging: Science and Technology, volume 1905, pages 861-870,\n",
      "     San Jose, CA, 1993.\n",
      "   - O.L. Mangasarian, W.N. Street and W.H. Wolberg. Breast cancer diagnosis and \n",
      "     prognosis via linear programming. Operations Research, 43(4), pages 570-577, \n",
      "     July-August 1995.\n",
      "   - W.H. Wolberg, W.N. Street, and O.L. Mangasarian. Machine learning techniques\n",
      "     to diagnose breast cancer from fine-needle aspirates. Cancer Letters 77 (1994) \n",
      "     163-171.\n"
     ]
    }
   ],
   "source": [
    "# load the data set\n",
    "bc = load_breast_cancer()\n",
    "print(bc.DESCR)"
   ]
  },
  {
   "cell_type": "code",
   "execution_count": 5,
   "metadata": {},
   "outputs": [
    {
     "name": "stdout",
     "output_type": "stream",
     "text": [
      "dict_keys(['data', 'target', 'target_names', 'DESCR', 'feature_names', 'filename'])\n",
      "The dimensions of the data set are  569 by 30\n",
      "\n",
      "(569, 30)\n",
      "(569,)\n",
      "\n",
      "The classes are: \n",
      " ['malignant' 'benign']\n",
      "\n",
      "The features in the data set are:\n",
      " ['mean radius' 'mean texture' 'mean perimeter' 'mean area'\n",
      " 'mean smoothness' 'mean compactness' 'mean concavity'\n",
      " 'mean concave points' 'mean symmetry' 'mean fractal dimension'\n",
      " 'radius error' 'texture error' 'perimeter error' 'area error'\n",
      " 'smoothness error' 'compactness error' 'concavity error'\n",
      " 'concave points error' 'symmetry error' 'fractal dimension error'\n",
      " 'worst radius' 'worst texture' 'worst perimeter' 'worst area'\n",
      " 'worst smoothness' 'worst compactness' 'worst concavity'\n",
      " 'worst concave points' 'worst symmetry' 'worst fractal dimension']\n"
     ]
    }
   ],
   "source": [
    "## Explore the data set\n",
    "n_samples, n_features = bc.data.shape\n",
    "print(bc.keys())\n",
    "print ('The dimensions of the data set are ', n_samples, 'by', n_features)\n",
    "print()\n",
    "print(bc.data.shape)\n",
    "print(bc.target.shape)\n",
    "print()\n",
    "print('The classes are: \\n', bc.target_names)\n",
    "print()\n",
    "print('The features in the data set are:\\n', bc.feature_names)"
   ]
  },
  {
   "cell_type": "markdown",
   "metadata": {},
   "source": [
    "## 1.Decision Trees "
   ]
  },
  {
   "cell_type": "markdown",
   "metadata": {},
   "source": [
    "### Modeling"
   ]
  },
  {
   "cell_type": "markdown",
   "metadata": {},
   "source": [
    "Initialized the classifier with hyper-parameter **max_depth = 3** as the starting point as the Wisconsin Diagnostic Breast Cancer names file mentions that the best accuracy was received using 3 parameters - Worst Area, Worst Smoothness and Mean Texture"
   ]
  },
  {
   "cell_type": "code",
   "execution_count": 6,
   "metadata": {},
   "outputs": [],
   "source": [
    "# We start with initializing our classifier.\n",
    "clf = tree.DecisionTreeClassifier(max_depth = 3, random_state=45)"
   ]
  },
  {
   "cell_type": "code",
   "execution_count": 7,
   "metadata": {},
   "outputs": [
    {
     "name": "stdout",
     "output_type": "stream",
     "text": [
      "Accuracy: 94.15%\n",
      "\n",
      "Confusion Matrix: - \n",
      " [[ 60   8]\n",
      " [  3 117]]\n",
      "\n",
      "Classification Report: - \n",
      "               precision    recall  f1-score   support\n",
      "\n",
      "           0       0.95      0.88      0.92        68\n",
      "           1       0.94      0.97      0.96       120\n",
      "\n",
      "   micro avg       0.94      0.94      0.94       188\n",
      "   macro avg       0.94      0.93      0.94       188\n",
      "weighted avg       0.94      0.94      0.94       188\n",
      "\n"
     ]
    }
   ],
   "source": [
    "## Train the model (fit the data)\n",
    "X_train, X_test, y_train, y_test = train_test_split(bc.data, bc.target, test_size=0.33,random_state=45)\n",
    "clf = clf.fit(X_train, y_train)\n",
    "y_pred = clf.predict(X_test)\n",
    "print(\"Accuracy: {0:.2%}\".format(accuracy_score(y_test, y_pred)))\n",
    "print()\n",
    "#plot_confusion_matrix(y_test, y_pred, classes=bc.target_names,title='Confusion matrix')\n",
    "print(\"Confusion Matrix: - \\n\",confusion_matrix(y_test, y_pred))\n",
    "print()\n",
    "print(\"Classification Report: - \\n\",classification_report(y_test, y_pred))"
   ]
  },
  {
   "cell_type": "code",
   "execution_count": 8,
   "metadata": {},
   "outputs": [
    {
     "name": "stdout",
     "output_type": "stream",
     "text": [
      "The 1st instance is predicted to belong to class: [0]\n",
      "The probabilities of belonging to each one of the classes are estimated as: [[1. 0.]]\n"
     ]
    }
   ],
   "source": [
    "# After being fitted, the model can then be used to predict the class of samples:\n",
    "print('The 1st instance is predicted to belong to class:', clf.predict(bc.data[:1, :]))\n",
    "# Here we predict the class of a single value\n",
    "\n",
    "# Alternatively, the probability of each class can be predicted, which is the fraction of training samples of the same class in a leaf:\n",
    "print('The probabilities of belonging to each one of the classes are estimated as:', clf.predict_proba(bc.data[:1, :]))\n",
    "# Here you can see the probability of each one of the classes"
   ]
  },
  {
   "cell_type": "markdown",
   "metadata": {},
   "source": [
    "Hyper-parameter max_depth = 3 gives us a Accuracy of 94.15%.\n",
    "\n",
    "Accuracy can be deceiving as it doesn't take into account false negatives. Being a medical case, breast cancer classification should minimize false negatives as this can lead lead to a persons death.\n",
    "\n",
    "I am selecting F1-score for selecting the best estimator because it is a better measure than accuracy as this score takes both false positives and false negatives into account.\n",
    "\n",
    "We get a weighted f1 score of 94% using this model which is a good starting point. Lets see if this can be improved by tuning the hyper parameters.\n",
    "\n",
    "### Tuning the hyper-parameters\n",
    "\n",
    "Now we see what is the best max-depth for maximizing accuracy in the test data. \n",
    "\n",
    "The **max-depth** of a tree defines the number of features used to classify the data. Using very few features would result in underfitting and using a lot of features would lead to over-fitting.\n",
    "\n",
    "We also look at both criterions **gini** and **entropy** to see which gives us a better accuracy"
   ]
  },
  {
   "cell_type": "code",
   "execution_count": 9,
   "metadata": {},
   "outputs": [
    {
     "data": {
      "image/png": "[encoded data removed]",
      "text/plain": [
       "<Figure size 432x288 with 1 Axes>"
      ]
     },
     "metadata": {
      "needs_background": "light"
     },
     "output_type": "display_data"
    },
    {
     "data": {
      "image/png": "[encoded data removed]",
      "text/plain": [
       "<Figure size 432x288 with 1 Axes>"
      ]
     },
     "metadata": {
      "needs_background": "light"
     },
     "output_type": "display_data"
    }
   ],
   "source": [
    "# Optimize decision tree and detect (potential) over-fitting\n",
    "complexity_values = range(1,30)\n",
    "\n",
    "X_train, X_test, y_train, y_test = train_test_split(bc.data, bc.target, test_size=0.33, random_state=45)\n",
    "\n",
    "train_accuracies = []\n",
    "test_accuracies=[]\n",
    "\n",
    "for complexity_value in complexity_values:\n",
    "    clf = tree.DecisionTreeClassifier(criterion=\"gini\", max_depth=complexity_value, random_state=45)\n",
    "    test_accuracies.append(clf.fit(X_train, y_train).score(X_test, y_test))\n",
    "    train_accuracies.append(clf.fit(X_train, y_train).score(X_train, y_train))\n",
    "    \n",
    "# We want to plot our results\n",
    "line1, =plt.plot(complexity_values, test_accuracies,label='test_accuracies')\n",
    "line2, =plt.plot(complexity_values, train_accuracies,label='train_accuracies')\n",
    "plt.xlabel(\"max_depth (with gini)\")\n",
    "plt.ylabel(\"Accuracy\")\n",
    "plt.legend((line1, line2), ('test', 'train'))\n",
    "plt.show()\n",
    "\n",
    "train_accuracies = []\n",
    "test_accuracies=[]\n",
    "\n",
    "for complexity_value in complexity_values:\n",
    "    clf = tree.DecisionTreeClassifier(criterion=\"entropy\", max_depth=complexity_value, random_state=45)\n",
    "    test_accuracies.append(clf.fit(X_train, y_train).score(X_test, y_test))\n",
    "    train_accuracies.append(clf.fit(X_train, y_train).score(X_train, y_train))\n",
    "    \n",
    "# We want to plot our results\n",
    "line1, =plt.plot(complexity_values, test_accuracies,label='test_accuracies')\n",
    "line2, =plt.plot(complexity_values, train_accuracies,label='train_accuracies')\n",
    "plt.xlabel(\"max_depth with entropy\")\n",
    "plt.ylabel(\"Accuracy\")\n",
    "plt.legend((line1, line2), ('test', 'train'))\n",
    "plt.show()"
   ]
  },
  {
   "cell_type": "markdown",
   "metadata": {},
   "source": [
    "We plot a graph of train and test accuracy w.r.t max_depth and we can see that accuracy for the test data is maximum and close to the training data at **max_depth = 8 & criterion = \"gini\"**\n",
    "\n",
    "**Underfitting** : If we use max_depth = 1, this would be under-fitting as we are using only one parameter to classify the the data. As seen in the above graph, our test and train accuracies are pretty low when max_depth is lower (1/2)\n",
    "\n",
    "**Overfitting** : If our max_depth is large i.e greater than 6, we see 100% accuracy in the training data but the accuracy for test data is fluctuating. This is a case of over-fitting so we definitely want the max deph to be less than 6, and max_depth = 4 satisfies this condition."
   ]
  },
  {
   "cell_type": "markdown",
   "metadata": {},
   "source": [
    "### Tuning parameters - Nested CV & Grid search"
   ]
  },
  {
   "cell_type": "markdown",
   "metadata": {},
   "source": [
    "To search for the best parameters, we run a nested cross-validation grid search with the following hyper parameters\n",
    "\n",
    "1. criterion : to find an optimal criterion to calculate impurity of a node\n",
    "2. max_depth : to search for the optimal number of features used for classification. Setting the right value for the max_depth (i.e. the number of features used for classification) is crucial to avoid overfitting or underfitting\n",
    "3. min_samples_leaf : to search for the optimal minimum number of samples required to form a leaf\n",
    "4. min_impurity_decrease : to search for the optimal minimum impurity decrease to split a node. If this split induces a decrease of the impurity greater than or equal to min_impurity_decrease only then the split will happen. This prevents splits where information gain is very low.\n",
    "\n",
    "Being a medical case, breast cancer classification should **minimize false negatives** as this can lead lead to a persons death.\n",
    "\n",
    "I am selecting **F1-score** for selecting the best estimator because it is a better measure than accuracy as this score takes both false positives and false negatives into account. "
   ]
  },
  {
   "cell_type": "code",
   "execution_count": 10,
   "metadata": {},
   "outputs": [],
   "source": [
    "X_train,X_test,y_train,y_test = train_test_split(bc.data, bc.target,test_size=0.33,random_state=45)\n",
    "\n",
    "param_grid = dict(criterion = [\"gini\", \"entropy\"], \n",
    "                  max_depth = range(2,10),\n",
    "                  min_samples_leaf = range(2,8),\n",
    "                  min_impurity_decrease = [0,1e-8,1e-7,1e-6,1e-5,1e-4]\n",
    "                 )\n",
    "\n",
    "grid_tree_clf = tree.DecisionTreeClassifier(random_state=45)\n",
    "\n",
    "inner_cv = KFold(n_splits=4, shuffle=True, random_state=45)\n",
    "outer_cv = KFold(n_splits=4, shuffle=True, random_state=45)\n",
    "\n",
    "grid_tree = GridSearchCV(grid_tree_clf, param_grid, cv = inner_cv, scoring='f1',n_jobs=-1)\n",
    "grid_tree.fit(X_train,y_train)\n",
    "\n",
    "# Nested CV with parameter optimization\n",
    "nested_score = cross_val_score(grid_tree, bc.data, bc.target, cv=outer_cv)"
   ]
  },
  {
   "cell_type": "code",
   "execution_count": 11,
   "metadata": {},
   "outputs": [
    {
     "name": "stdout",
     "output_type": "stream",
     "text": [
      "Using Nested CV with grid search, we acheive accuracy: 94.12% +/- 0.70%\n",
      "\n",
      "The best hyper-parameters to get these accuracy are :-\n",
      " {'criterion': 'gini', 'max_depth': 4, 'min_impurity_decrease': 0, 'min_samples_leaf': 5}\n",
      "\n",
      "The best decision tree classifier is :-\n",
      " DecisionTreeClassifier(class_weight=None, criterion='gini', max_depth=4,\n",
      "            max_features=None, max_leaf_nodes=None,\n",
      "            min_impurity_decrease=0, min_impurity_split=None,\n",
      "            min_samples_leaf=5, min_samples_split=2,\n",
      "            min_weight_fraction_leaf=0.0, presort=False, random_state=45,\n",
      "            splitter='best')\n",
      "Confusion Matrix: - \n",
      " [[ 62   6]\n",
      " [  1 119]]\n",
      "\n",
      "Classification Report: - \n",
      "               precision    recall  f1-score   support\n",
      "\n",
      "           0       0.98      0.91      0.95        68\n",
      "           1       0.95      0.99      0.97       120\n",
      "\n",
      "   micro avg       0.96      0.96      0.96       188\n",
      "   macro avg       0.97      0.95      0.96       188\n",
      "weighted avg       0.96      0.96      0.96       188\n",
      "\n"
     ]
    }
   ],
   "source": [
    "print(\"Using Nested CV with grid search, we acheive accuracy: {0:.2%} +/- {1:.2%}\".format(nested_score.mean(), nested_score.std()))\n",
    "print()\n",
    "print (\"The best hyper-parameters to get these accuracy are :-\\n\", grid_tree.best_params_)\n",
    "print()\n",
    "print (\"The best decision tree classifier is :-\\n\", grid_tree.best_estimator_)\n",
    "y_pred = grid_tree.best_estimator_.predict(X_test)\n",
    "#plot_confusion_matrix(y_test, y_pred, classes=bc.target_names,title='Confusion matrix')\n",
    "print(\"Confusion Matrix: - \\n\",confusion_matrix(y_test, y_pred))\n",
    "print()\n",
    "print(\"Classification Report: - \\n\",classification_report(y_test, y_pred))"
   ]
  },
  {
   "cell_type": "markdown",
   "metadata": {},
   "source": [
    "### Results - Model Goodness"
   ]
  },
  {
   "cell_type": "markdown",
   "metadata": {},
   "source": [
    "**Model Goodness**\n",
    "The class distribution is 357 benign, 212 malignant, which would get us an accuracy of 357/(357+212) = 62.74% by majority rule, so an **Accuracy of 94.12% +/- 0.70%** by decision tree classification is a good model.\n",
    "\n",
    "Our model was chosen based of **f1-score which is 96%** which is the harmonic mean of precision and recall and hecne a good measure to determine a good fit.\n",
    "\n",
    "False Negatives can be a problem since it is a medical case and we would like to minimize the number of **false negatives which is 6** in this case.\n",
    "\n",
    "Therefore, the following Hyperparameters,  'criterion': 'gini', 'max_depth': 4, 'min_impurity_decrease': 0, 'min_samples_leaf': 5 help us increase the accuracy to 94.12% +/- 1.41%, while maintaining the same f1 score of 96%."
   ]
  },
  {
   "cell_type": "markdown",
   "metadata": {},
   "source": [
    "### ROC and Lift Curves"
   ]
  },
  {
   "cell_type": "code",
   "execution_count": 12,
   "metadata": {},
   "outputs": [
    {
     "data": {
      "image/png": "[encoded data removed]",
      "text/plain": [
       "<Figure size 432x288 with 1 Axes>"
      ]
     },
     "metadata": {
      "needs_background": "light"
     },
     "output_type": "display_data"
    }
   ],
   "source": [
    "y_score = grid_tree.best_estimator_.predict_proba(X_test)\n",
    "\n",
    "fpr, tpr, _ = roc_curve(y_test, y_score[:,1])\n",
    "roc_auc = auc(fpr, tpr)\n",
    "\n",
    "plt.figure()\n",
    "plt.plot(fpr, tpr, color='darkorange',\n",
    "         lw=2, label='Area Under Curve = %0.2f)' % roc_auc)\n",
    "plt.plot([0, 1], [0, 1], color='navy', linestyle='--')\n",
    "plt.xlim([0.0, 1.0])\n",
    "plt.ylim([0.0, 1.05])\n",
    "plt.xticks(np.arange(0,1.1,0.1))\n",
    "plt.yticks(np.arange(0,1.1,0.1))\n",
    "plt.xlabel('False Positive Rate')\n",
    "plt.ylabel('True Positive Rate')\n",
    "plt.title('ROC Curve\\nDecision Tree')\n",
    "plt.legend(loc=\"lower right\")\n",
    "plt.show()"
   ]
  },
  {
   "cell_type": "markdown",
   "metadata": {},
   "source": [
    "For this use case, it is crucial to have the cancerour cells classified correctly. Therefore having a **high sensitivity i.e. true positive rate (by minimizing false negatives)** is more important than decreasing **specificity i.e. false positive rate.** It is okay to have some false positives as they would be identified as non-cancerous in later stages of diagnosis. Therefore, we should choose a threshold which maximizes false positive rate."
   ]
  },
  {
   "cell_type": "code",
   "execution_count": 13,
   "metadata": {},
   "outputs": [
    {
     "data": {
      "text/plain": [
       "array([0.99509804, 0.99509804, 0.99509804, 0.99509804, 0.99509804,\n",
       "       0.99509804, 0.99509804, 0.99509804, 0.99509804, 0.99509804,\n",
       "       0.99509804, 0.99509804, 0.99509804, 0.99509804, 0.99509804,\n",
       "       0.99509804, 0.99509804, 0.99509804, 0.99509804, 0.99509804,\n",
       "       0.99509804, 0.99509804, 0.99509804, 0.99509804, 0.99509804,\n",
       "       0.99509804, 0.99509804, 0.99509804, 0.99509804, 0.99509804,\n",
       "       0.99509804, 0.99509804, 0.99509804, 0.99509804, 0.99509804,\n",
       "       0.99509804, 0.99509804, 0.99509804, 0.99509804, 0.99509804,\n",
       "       0.99509804, 0.99509804, 0.99509804, 0.99509804, 0.99509804,\n",
       "       0.99509804, 0.99509804, 0.99509804, 0.99509804, 0.99509804,\n",
       "       0.99509804, 0.99509804, 0.99509804, 0.99509804, 0.99509804,\n",
       "       0.99509804, 0.99509804, 0.99509804, 0.99509804, 0.99509804,\n",
       "       0.99509804, 0.99509804, 0.99509804, 0.99509804, 0.99509804,\n",
       "       0.99509804, 0.99509804, 0.99509804, 0.99509804, 0.99509804,\n",
       "       0.99509804, 0.99509804, 0.99509804, 0.99509804, 0.99509804,\n",
       "       0.99509804, 0.99509804, 0.99509804, 0.99509804, 0.99509804,\n",
       "       0.99509804, 0.99509804, 0.99509804, 0.99509804, 0.99509804,\n",
       "       0.99509804, 0.99509804, 0.99509804, 0.99509804, 0.99509804,\n",
       "       0.99509804, 0.99509804, 0.99509804, 0.99509804, 0.99509804,\n",
       "       0.99509804, 0.99509804, 0.99509804, 0.99509804, 0.99509804,\n",
       "       0.99509804, 0.99509804, 0.99509804, 0.99509804, 0.99509804,\n",
       "       0.99509804, 0.99509804, 0.99509804, 0.91666667, 0.91666667,\n",
       "       0.91666667, 0.91666667, 0.91666667, 0.91666667, 0.91666667,\n",
       "       0.91666667, 0.88235294, 0.88235294, 0.88235294, 0.88235294,\n",
       "       0.88235294, 0.85714286, 0.85714286, 0.85714286, 0.85714286,\n",
       "       0.        , 0.        , 0.        , 0.        , 0.        ,\n",
       "       0.        , 0.        , 0.        , 0.        , 0.        ,\n",
       "       0.        , 0.        , 0.        , 0.        , 0.        ,\n",
       "       0.        , 0.        , 0.        , 0.        , 0.        ,\n",
       "       0.        , 0.        , 0.        , 0.        , 0.        ,\n",
       "       0.        , 0.        , 0.        , 0.        , 0.        ,\n",
       "       0.        , 0.        , 0.        , 0.        , 0.        ,\n",
       "       0.        , 0.        , 0.        , 0.        , 0.        ,\n",
       "       0.        , 0.        , 0.        , 0.        , 0.        ,\n",
       "       0.        , 0.        , 0.        , 0.        , 0.        ,\n",
       "       0.        , 0.        , 0.        , 0.        , 0.        ,\n",
       "       0.        , 0.        , 0.        , 0.        , 0.        ,\n",
       "       0.        , 0.        , 0.        ])"
      ]
     },
     "execution_count": 13,
     "metadata": {},
     "output_type": "execute_result"
    }
   ],
   "source": [
    "#Ranked list of probabilities\n",
    "np.sort(y_score[:,1])[::-1]"
   ]
  },
  {
   "cell_type": "markdown",
   "metadata": {},
   "source": [
    "**Area under ROC Curve**\n",
    "\n",
    "The area under the ROC curve is 0.98 which means that within the above ranking list, if we randomly choose a cell that is malignant and randomly choose a cell that is benign, theer is a 98% probability that the cell that is malignant will be ranked higher than the cell that is begin. This is a very high valu for AUC."
   ]
  },
  {
   "cell_type": "code",
   "execution_count": 14,
   "metadata": {},
   "outputs": [
    {
     "data": {
      "image/png": "[encoded data removed]",
      "text/plain": [
       "<Figure size 432x288 with 1 Axes>"
      ]
     },
     "metadata": {
      "needs_background": "light"
     },
     "output_type": "display_data"
    }
   ],
   "source": [
    "# Plot the lift curve\n",
    "skplt.metrics.plot_lift_curve(y_test, y_score, title = \"Lift Curve\\n Decision Tree\")\n",
    "plt.show()"
   ]
  },
  {
   "cell_type": "markdown",
   "metadata": {},
   "source": [
    "The lift curve tells us that as compared to random guess, our decision tree classifier classifies mallignant cells 1.5x better."
   ]
  },
  {
   "cell_type": "markdown",
   "metadata": {},
   "source": [
    "## 2.K-Nearest Neighbours\n",
    "\n",
    "### Modeling\n",
    "\n",
    "We start by looking at the test data and training data accuracies for number of neighbours from 1 to 30. We have scaled the data to normalise it for better classification results by avoiding missclasification due to the magnitude of the features"
   ]
  },
  {
   "cell_type": "code",
   "execution_count": 15,
   "metadata": {},
   "outputs": [
    {
     "data": {
      "image/png": "[encoded data removed]",
      "text/plain": [
       "<Figure size 432x288 with 1 Axes>"
      ]
     },
     "metadata": {
      "needs_background": "light"
     },
     "output_type": "display_data"
    }
   ],
   "source": [
    "n_neighbors = range(1,30)\n",
    "\n",
    "# KNeighborsClassifier is implementing the k-nearest neighbors vote\n",
    "X_train, X_test, y_train, y_test = train_test_split(bc.data, bc.target, test_size=0.33, random_state = 45)\n",
    "\n",
    "# normalization of data for KNN\n",
    "sc = StandardScaler()\n",
    "X_train = sc.fit_transform(X_train)\n",
    "X_test = sc.transform(X_test)\n",
    "\n",
    "train_accuracies = []\n",
    "test_accuracies=[]\n",
    "\n",
    "for n in n_neighbors:\n",
    "    clf = neighbors.KNeighborsClassifier(n)\n",
    "    test_accuracies.append(clf.fit(X_train, y_train).score(X_test, y_test))\n",
    "    train_accuracies.append(clf.fit(X_train, y_train).score(X_train, y_train))    \n",
    "\n",
    "# We want to plot our results\n",
    "line1, =plt.plot(n_neighbors, test_accuracies,label='test_accuracies')\n",
    "line2, =plt.plot(n_neighbors, train_accuracies,label='train_accuracies')\n",
    "plt.xlabel(\"n neighbours\")\n",
    "plt.ylabel(\"Accuracy\")\n",
    "plt.xticks(range(2,30,2))\n",
    "plt.legend((line1, line2), ('test', 'train'))\n",
    "plt.show()"
   ]
  },
  {
   "cell_type": "markdown",
   "metadata": {},
   "source": [
    "We see that the test and train data accuracies converge at **n = 8 neighbours**. So we use 6 nearest neighbours as a starting point for our K Nearest Neighbours classifier\n",
    "\n",
    "**Overfitting** : If the classification is done based on very few neighbours (1 or 2), we see that the training data accuracy is very high but test data accuracy is very low. This indicates over-fitting as items are classified based on very few neighbours and classifcation may be done based on few outliers resulting in no definite boundaries for classification.\n",
    "\n",
    "**Underfitting** : Using a high number of neighbours to classify can lead to underfitting. An extreme case of this would be where all the samples are looked at for fitting which would lead to a naive (majority) rule classification."
   ]
  },
  {
   "cell_type": "markdown",
   "metadata": {},
   "source": [
    "### Tuning parameters - Nested CV & Grid search\n",
    "\n",
    "To search for the best parameters, we run a grid search with the following hyper parameters\n",
    "\n",
    "1. weights : To check whether assigneing **uniform weights or weights based on distance** give a us better model. \n",
    "2. n_neighbors : As defined earlier, it is crucial to select an optimal number of neighbours to run the classification model."
   ]
  },
  {
   "cell_type": "code",
   "execution_count": 16,
   "metadata": {},
   "outputs": [],
   "source": [
    "k_range = list(range(1,30))\n",
    "weight_options = [\"uniform\", \"distance\"]\n",
    "param_grid = dict(n_neighbors = k_range, weights = weight_options)\n",
    "\n",
    "grid_knn_clf = neighbors.KNeighborsClassifier()\n",
    "\n",
    "inner_cv = KFold(n_splits=4, shuffle=True, random_state=45)\n",
    "outer_cv = KFold(n_splits=4, shuffle=True, random_state=45)\n",
    "\n",
    "grid_knn = GridSearchCV(grid_knn_clf, param_grid, cv = inner_cv, scoring='f1',n_jobs=-1)\n",
    "grid_knn.fit(X_train,y_train)\n",
    "\n",
    "# Nested CV with parameter optimization\n",
    "nested_score = cross_val_score(grid_knn, bc.data, bc.target, cv=outer_cv)"
   ]
  },
  {
   "cell_type": "code",
   "execution_count": 17,
   "metadata": {},
   "outputs": [
    {
     "name": "stdout",
     "output_type": "stream",
     "text": [
      "Using Nested CV with grid search, we acheive accuracy: 94.35% +/- 0.78%\n",
      "\n",
      "The best hyper-parameters to get these accuracy are :-\n",
      " {'n_neighbors': 8, 'weights': 'distance'}\n",
      "\n",
      "The best KNN classifier is :-\n",
      " KNeighborsClassifier(algorithm='auto', leaf_size=30, metric='minkowski',\n",
      "           metric_params=None, n_jobs=None, n_neighbors=8, p=2,\n",
      "           weights='distance')\n",
      "Confusion Matrix: - \n",
      " [[ 63   5]\n",
      " [  1 119]]\n",
      "\n",
      "Classification Report: - \n",
      "               precision    recall  f1-score   support\n",
      "\n",
      "           0       0.98      0.93      0.95        68\n",
      "           1       0.96      0.99      0.98       120\n",
      "\n",
      "   micro avg       0.97      0.97      0.97       188\n",
      "   macro avg       0.97      0.96      0.96       188\n",
      "weighted avg       0.97      0.97      0.97       188\n",
      "\n"
     ]
    }
   ],
   "source": [
    "print(\"Using Nested CV with grid search, we acheive accuracy: {0:.2%} +/- {1:.2%}\".format(nested_score.mean(), nested_score.std()))\n",
    "print()\n",
    "print (\"The best hyper-parameters to get these accuracy are :-\\n\", grid_knn.best_params_)\n",
    "print()\n",
    "print (\"The best KNN classifier is :-\\n\", grid_knn.best_estimator_)\n",
    "y_pred = grid_knn.best_estimator_.predict(X_test)\n",
    "#plot_confusion_matrix(y_test, y_pred, classes=bc.target_names,title='Confusion matrix')\n",
    "print(\"Confusion Matrix: - \\n\",confusion_matrix(y_test, y_pred))\n",
    "print()\n",
    "print(\"Classification Report: - \\n\",classification_report(y_test, y_pred))"
   ]
  },
  {
   "cell_type": "markdown",
   "metadata": {},
   "source": [
    "### Results - Model Goodness\n",
    "\n",
    "**Model Goodness**\n",
    "The class distribution is 357 benign, 212 malignant, which would get us an accuracy of 357/(357+212) = 62.74% by majority rule, so an **Accuracy of 94.35% +/- 0.78%** by k nearest neighbours is a good model. The accuracy is slightly higher than the one received by our best Decision Tree Classifier (94.12%) but the standard deviation also increases slightly from the Decision Tree (0.7%), so we cna deem both models as equally good based on accuracy.\n",
    "\n",
    "However, we see that **f1-score which is 97%** in this model with hyper parameters set as n = 8 neighbours and weighted distances which is the harmonic mean of precision and recall and is higher compared to decision trees. So this model is better so far\n",
    "\n",
    "False Negatives can be a problem since it is a medical case and we would like to minimize the number of **false negatives which is 5** in this case, which again is lower than Decision Tree Classifier.\n",
    "\n",
    "So far, the accuracy is almost similar to the one acheived by the decision tree classifier, however KNN Classifier has a lower number of false negatives and higher f1-score."
   ]
  },
  {
   "cell_type": "code",
   "execution_count": 18,
   "metadata": {},
   "outputs": [
    {
     "data": {
      "image/png": "[encoded data removed]",
      "text/plain": [
       "<Figure size 432x288 with 1 Axes>"
      ]
     },
     "metadata": {
      "needs_background": "light"
     },
     "output_type": "display_data"
    }
   ],
   "source": [
    "y_score = grid_knn.best_estimator_.predict_proba(X_test)\n",
    "\n",
    "fpr, tpr, _ = roc_curve(y_test, y_score[:,1])\n",
    "roc_auc = auc(fpr, tpr)\n",
    "\n",
    "plt.figure()\n",
    "plt.plot(fpr, tpr, color='darkorange',\n",
    "         lw=2, label='Area under Curve = %0.2f)' % roc_auc)\n",
    "plt.plot([0, 1], [0, 1], color='navy', linestyle='--')\n",
    "plt.xlim([0.0, 1.0])\n",
    "plt.ylim([0.0, 1.05])\n",
    "plt.xlabel('False Positive Rate')\n",
    "plt.ylabel('True Positive Rate')\n",
    "plt.title('ROC Curve\\nKNN Classifier')\n",
    "plt.legend(loc=\"lower right\")\n",
    "plt.show()"
   ]
  },
  {
   "cell_type": "markdown",
   "metadata": {},
   "source": [
    "For this use case, it is crucial to have the cancerour cells classified correctly. Therefore having a **high sensitivity i.e. true positive rate (by minimizing false negatives)** is more important than decreasing **specificity i.e. false positive rate.** It is okay to have some false positives as they would be identified as non-cancerous in later stages of diagnosis. Therefore, we should choose a threshold which maximizes false positive rate."
   ]
  },
  {
   "cell_type": "code",
   "execution_count": 19,
   "metadata": {},
   "outputs": [
    {
     "data": {
      "text/plain": [
       "array([1.        , 1.        , 1.        , 1.        , 1.        ,\n",
       "       1.        , 1.        , 1.        , 1.        , 1.        ,\n",
       "       1.        , 1.        , 1.        , 1.        , 1.        ,\n",
       "       1.        , 1.        , 1.        , 1.        , 1.        ,\n",
       "       1.        , 1.        , 1.        , 1.        , 1.        ,\n",
       "       1.        , 1.        , 1.        , 1.        , 1.        ,\n",
       "       1.        , 1.        , 1.        , 1.        , 1.        ,\n",
       "       1.        , 1.        , 1.        , 1.        , 1.        ,\n",
       "       1.        , 1.        , 1.        , 1.        , 1.        ,\n",
       "       1.        , 1.        , 1.        , 1.        , 1.        ,\n",
       "       1.        , 1.        , 1.        , 1.        , 1.        ,\n",
       "       1.        , 1.        , 1.        , 1.        , 1.        ,\n",
       "       1.        , 1.        , 1.        , 1.        , 1.        ,\n",
       "       1.        , 1.        , 1.        , 1.        , 1.        ,\n",
       "       1.        , 1.        , 1.        , 1.        , 1.        ,\n",
       "       1.        , 1.        , 1.        , 1.        , 1.        ,\n",
       "       1.        , 1.        , 1.        , 1.        , 1.        ,\n",
       "       1.        , 1.        , 1.        , 1.        , 1.        ,\n",
       "       1.        , 1.        , 1.        , 1.        , 1.        ,\n",
       "       1.        , 1.        , 1.        , 1.        , 1.        ,\n",
       "       1.        , 1.        , 1.        , 1.        , 1.        ,\n",
       "       1.        , 0.89308488, 0.88875941, 0.88864745, 0.88737085,\n",
       "       0.88476254, 0.88377097, 0.88351642, 0.88100514, 0.87616025,\n",
       "       0.87357517, 0.86977574, 0.86974485, 0.86912889, 0.75379197,\n",
       "       0.6957575 , 0.64530609, 0.63185274, 0.52160871, 0.40654048,\n",
       "       0.3868743 , 0.36630641, 0.36058486, 0.35934088, 0.33537196,\n",
       "       0.33519689, 0.2443186 , 0.24158103, 0.23958695, 0.23857562,\n",
       "       0.12658287, 0.12645603, 0.12027294, 0.11640214, 0.11608526,\n",
       "       0.10886905, 0.        , 0.        , 0.        , 0.        ,\n",
       "       0.        , 0.        , 0.        , 0.        , 0.        ,\n",
       "       0.        , 0.        , 0.        , 0.        , 0.        ,\n",
       "       0.        , 0.        , 0.        , 0.        , 0.        ,\n",
       "       0.        , 0.        , 0.        , 0.        , 0.        ,\n",
       "       0.        , 0.        , 0.        , 0.        , 0.        ,\n",
       "       0.        , 0.        , 0.        , 0.        , 0.        ,\n",
       "       0.        , 0.        , 0.        , 0.        , 0.        ,\n",
       "       0.        , 0.        , 0.        , 0.        , 0.        ,\n",
       "       0.        , 0.        , 0.        ])"
      ]
     },
     "execution_count": 19,
     "metadata": {},
     "output_type": "execute_result"
    }
   ],
   "source": [
    "#Ranked list of probabilities\n",
    "np.sort(y_score[:,1])[::-1]"
   ]
  },
  {
   "cell_type": "markdown",
   "metadata": {},
   "source": [
    "**Area under ROC Curve**\n",
    "\n",
    "The area under the ROC curve is 0.98 which means that within the above ranking list, if we randomly choose a cell that is malignant and randomly choose a cell that is benign, theer is a 98% probability that the cell that is malignant will be ranked higher than the cell that is begin. This is a very high value for AUC."
   ]
  },
  {
   "cell_type": "code",
   "execution_count": 20,
   "metadata": {},
   "outputs": [
    {
     "data": {
      "image/png": "[encoded data removed]",
      "text/plain": [
       "<Figure size 432x288 with 1 Axes>"
      ]
     },
     "metadata": {
      "needs_background": "light"
     },
     "output_type": "display_data"
    }
   ],
   "source": [
    "# Plot the lift curve\n",
    "skplt.metrics.plot_lift_curve(y_test, y_score, title = 'Lift Curve\\nKNN Classifier')\n",
    "plt.show()"
   ]
  },
  {
   "cell_type": "markdown",
   "metadata": {},
   "source": [
    "The lift curve tells us that as compared to random guess, our knn classifier classifies mallignant cells 1.5x better at 0.5 as the threshold which is chosen by default. We can also chose a threshold close to 0.6"
   ]
  },
  {
   "cell_type": "markdown",
   "metadata": {},
   "source": [
    "## 3.Logistic regression\n",
    "\n",
    "### Modeling\n",
    "\n",
    "As a starting point, we run the Logistic regression classifer with an L1 penalty as a hyper parameter. This is used of regularization of the co-efficients. L1 is useful as it can push feature coefficients to 0, creating a method for feature selection."
   ]
  },
  {
   "cell_type": "code",
   "execution_count": 21,
   "metadata": {},
   "outputs": [
    {
     "name": "stdout",
     "output_type": "stream",
     "text": [
      "Accuracy: 95.09% +/- 1.59%\n",
      "The 1st instance is predicted to belong to class: [0]\n",
      "The probabilities of belonging to each one of the classes are estimated as: [[1. 0.]]\n"
     ]
    }
   ],
   "source": [
    "clf = linear_model.LogisticRegression(penalty='l1', random_state=45)\n",
    "clf.fit(X_train, y_train)\n",
    "scores = cross_val_score(clf, bc.data, bc.target, cv=5)\n",
    "print(\"Accuracy: {0:.2%} +/- {1:.2%}\".format(scores.mean(), scores.std()))\n",
    "print('The 1st instance is predicted to belong to class:', clf.predict(bc.data[:1, :]))\n",
    "print('The probabilities of belonging to each one of the classes are estimated as:', clf.predict_proba(bc.data[:1, :]))"
   ]
  },
  {
   "cell_type": "code",
   "execution_count": 22,
   "metadata": {},
   "outputs": [
    {
     "name": "stdout",
     "output_type": "stream",
     "text": [
      "Confusion Matrix: - \n",
      " [[ 65   3]\n",
      " [  0 120]]\n",
      "\n",
      "Classification Report: - \n",
      "               precision    recall  f1-score   support\n",
      "\n",
      "           0       1.00      0.96      0.98        68\n",
      "           1       0.98      1.00      0.99       120\n",
      "\n",
      "   micro avg       0.98      0.98      0.98       188\n",
      "   macro avg       0.99      0.98      0.98       188\n",
      "weighted avg       0.98      0.98      0.98       188\n",
      "\n"
     ]
    }
   ],
   "source": [
    "y_pred = clf.predict(X_test)\n",
    "#plot_confusion_matrix(y_test, y_pred, classes=bc.target_names,title='Confusion matrix')\n",
    "print(\"Confusion Matrix: - \\n\",confusion_matrix(y_test, y_pred))\n",
    "print()\n",
    "print(\"Classification Report: - \\n\",classification_report(y_test, y_pred))"
   ]
  },
  {
   "cell_type": "markdown",
   "metadata": {},
   "source": [
    "### Goodness of fit\n",
    "\n",
    "Hyper-parameter **penalty='l1'** gives us a **95.09% +/- 1.59%** using a 5 fold cross-validation which is the best accuracy we have so far, but the standard deviation of 1.59% is very high.\n",
    "\n",
    "The **false negative cases is reduced to 3** which is good fit compared to all models so far for the accuracy.\n",
    "\n",
    "We also have a **high precision, recall and f-score.**\n",
    "\n",
    "The f-score is 98% which is the highest among all models so far.\n",
    "\n",
    "**Overfitting**\n",
    "Logistic regression is a linear model and overfitting can occur when the model is very complex, i.e. having too many parameters relative to the number of observations. A model that has been overfit has poor predictive performance, as it overreacts to minor fluctuations in the training data.\n",
    "\n",
    "To avoid overfitting, we use regularization. There are two typees of regularization, L1 and L2 and we check both of these as well as regularization strength using grid search."
   ]
  },
  {
   "cell_type": "markdown",
   "metadata": {},
   "source": [
    "### Tuning parameters - Nested CV & Grid search\n",
    "\n",
    "To search for the best parameters, we run a nested cross validation with grid search with the following hyper parameters\n",
    "\n",
    "1. penalty : To check whether l1 or l2 penalty gives us a better result. \n",
    "2. C : We also check what is an optimal value for regularization strength. The hyper-parameter 'C' is 1 / lambda (which is an inverse of the penalty or regularization strength."
   ]
  },
  {
   "cell_type": "code",
   "execution_count": 23,
   "metadata": {},
   "outputs": [],
   "source": [
    "grid_values = {'penalty': ['l1', 'l2'], \\\n",
    "               'C':[1e-4,0.001,.009,0.01,.09,1,5,10,25,100,1000,1e4]}\n",
    "\n",
    "clf = linear_model.LogisticRegression(random_state=45)\n",
    "\n",
    "inner_cv = KFold(n_splits=4, shuffle=True, random_state=45)\n",
    "outer_cv = KFold(n_splits=4, shuffle=True, random_state=45)\n",
    "\n",
    "grid_logit = GridSearchCV(clf, grid_values, cv = inner_cv, scoring='f1',n_jobs=-1)\n",
    "grid_logit.fit(X_train,y_train)\n",
    "\n",
    "# Nested CV with parameter optimization\n",
    "nested_score = cross_val_score(grid_logit, bc.data, bc.target, cv=outer_cv)"
   ]
  },
  {
   "cell_type": "code",
   "execution_count": 24,
   "metadata": {},
   "outputs": [
    {
     "name": "stdout",
     "output_type": "stream",
     "text": [
      "Using Nested CV with grid search, we acheive accuracy: 97.32% +/- 1.57%\n",
      "\n",
      "The best hyper-parameters to get these accuracy are :-\n",
      " {'C': 0.09, 'penalty': 'l2'}\n",
      "\n",
      "The best logistic regression classifier is :-\n",
      " LogisticRegression(C=0.09, class_weight=None, dual=False, fit_intercept=True,\n",
      "          intercept_scaling=1, max_iter=100, multi_class='warn',\n",
      "          n_jobs=None, penalty='l2', random_state=45, solver='warn',\n",
      "          tol=0.0001, verbose=0, warm_start=False)\n",
      "Confusion Matrix: - \n",
      " [[ 65   3]\n",
      " [  0 120]]\n",
      "\n",
      "Classification Report: - \n",
      "               precision    recall  f1-score   support\n",
      "\n",
      "           0       1.00      0.96      0.98        68\n",
      "           1       0.98      1.00      0.99       120\n",
      "\n",
      "   micro avg       0.98      0.98      0.98       188\n",
      "   macro avg       0.99      0.98      0.98       188\n",
      "weighted avg       0.98      0.98      0.98       188\n",
      "\n"
     ]
    }
   ],
   "source": [
    "print(\"Using Nested CV with grid search, we acheive accuracy: {0:.2%} +/- {1:.2%}\".format(nested_score.mean(), nested_score.std()))\n",
    "print()\n",
    "print (\"The best hyper-parameters to get these accuracy are :-\\n\", grid_logit.best_params_)\n",
    "print()\n",
    "print (\"The best logistic regression classifier is :-\\n\", grid_logit.best_estimator_)\n",
    "y_pred = grid_logit.best_estimator_.predict(X_test)\n",
    "#plot_confusion_matrix(y_test, y_pred, classes=bc.target_names,title='Confusion matrix')\n",
    "print(\"Confusion Matrix: - \\n\",confusion_matrix(y_test, y_pred))\n",
    "print()\n",
    "print(\"Classification Report: - \\n\",classification_report(y_test, y_pred))"
   ]
  },
  {
   "cell_type": "markdown",
   "metadata": {},
   "source": [
    "### Goodness of fit"
   ]
  },
  {
   "cell_type": "markdown",
   "metadata": {},
   "source": [
    "Logistic regression grid search with nested cross validation tells us that the best parameters are **C: 0.09, penalty: 'l2'**\n",
    "\n",
    "This gives us a high precision and recall of 97%, accuracy of 97.32% +/- 1.57% and a **very good f1-score of 97%** which is the highest so far.\n",
    "\n",
    "To avoid overfitting, we use regularization by a L2 penalty and a C parameter value = .09. Using this, we get an accuracy of 97.32% +/- 1.57%. The only concern might be that the standard devition of 1.57% is higher than those received with Tree and KNN Nested CV so far.\n",
    "\n",
    "Logistic regression also has the least number of false negatives compared to all classifiers so far that is 3."
   ]
  },
  {
   "cell_type": "code",
   "execution_count": 25,
   "metadata": {},
   "outputs": [
    {
     "data": {
      "image/png": "[encoded data removed]",
      "text/plain": [
       "<Figure size 432x288 with 1 Axes>"
      ]
     },
     "metadata": {
      "needs_background": "light"
     },
     "output_type": "display_data"
    }
   ],
   "source": [
    "y_score = grid_logit.best_estimator_.predict_proba(X_test)\n",
    "\n",
    "fpr, tpr, _ = roc_curve(y_test, y_score[:,1])\n",
    "roc_auc = auc(fpr, tpr)\n",
    "\n",
    "plt.figure()\n",
    "plt.plot(fpr, tpr, color='darkorange',\n",
    "         lw=2, label='Area under curve = %0.2f' % roc_auc)\n",
    "plt.plot([0, 1], [0, 1], color='navy', linestyle='--')\n",
    "plt.xlim([0.0, 1.0])\n",
    "plt.ylim([0.0, 1.05])\n",
    "plt.xlabel('False Positive Rate')\n",
    "plt.ylabel('True Positive Rate')\n",
    "plt.title('ROC Curve\\nLogistic')\n",
    "plt.legend(loc=\"lower right\")\n",
    "plt.show()"
   ]
  },
  {
   "cell_type": "markdown",
   "metadata": {},
   "source": [
    "For this use case, it is crucial to have the cancerour cells classified correctly. Therefore having a high sensitivity i.e. true positive rate (by minimizing false negatives) is more important than decreasing specificity i.e. false positive rate. It is okay to have some false positives as they would be identified as non-cancerous in later stages of diagnosis. Therefore, we should choose a threshold which maximizes false positive rate."
   ]
  },
  {
   "cell_type": "code",
   "execution_count": 26,
   "metadata": {},
   "outputs": [
    {
     "data": {
      "text/plain": [
       "array([9.99740252e-01, 9.99617427e-01, 9.99213029e-01, 9.98996313e-01,\n",
       "       9.98973771e-01, 9.98816258e-01, 9.98802179e-01, 9.98775644e-01,\n",
       "       9.98627456e-01, 9.98369907e-01, 9.98190980e-01, 9.97988514e-01,\n",
       "       9.97930539e-01, 9.97870452e-01, 9.97870297e-01, 9.97827047e-01,\n",
       "       9.97801118e-01, 9.97720776e-01, 9.97613453e-01, 9.97354441e-01,\n",
       "       9.97320544e-01, 9.97305572e-01, 9.96857832e-01, 9.96693954e-01,\n",
       "       9.96648556e-01, 9.96517444e-01, 9.96199773e-01, 9.95632724e-01,\n",
       "       9.94862486e-01, 9.94820653e-01, 9.94610597e-01, 9.94366804e-01,\n",
       "       9.94137252e-01, 9.93866075e-01, 9.93511052e-01, 9.93392563e-01,\n",
       "       9.93344341e-01, 9.93252370e-01, 9.92669766e-01, 9.92320490e-01,\n",
       "       9.91424387e-01, 9.91341051e-01, 9.90127017e-01, 9.90108780e-01,\n",
       "       9.89730753e-01, 9.89075271e-01, 9.89005222e-01, 9.88986014e-01,\n",
       "       9.88759553e-01, 9.88728672e-01, 9.88446346e-01, 9.88285845e-01,\n",
       "       9.87745482e-01, 9.86997935e-01, 9.86641828e-01, 9.85666545e-01,\n",
       "       9.85564489e-01, 9.85389820e-01, 9.85120155e-01, 9.84399261e-01,\n",
       "       9.84233374e-01, 9.83368508e-01, 9.83150849e-01, 9.82016582e-01,\n",
       "       9.81988246e-01, 9.81436928e-01, 9.81166074e-01, 9.80765103e-01,\n",
       "       9.80408099e-01, 9.79939725e-01, 9.79297083e-01, 9.78962197e-01,\n",
       "       9.78930849e-01, 9.78068226e-01, 9.77822033e-01, 9.77243636e-01,\n",
       "       9.72130285e-01, 9.69539436e-01, 9.68726595e-01, 9.68623469e-01,\n",
       "       9.68390413e-01, 9.64111683e-01, 9.61776298e-01, 9.61325026e-01,\n",
       "       9.59575854e-01, 9.58532872e-01, 9.55206841e-01, 9.50618148e-01,\n",
       "       9.47533949e-01, 9.46264522e-01, 9.44885547e-01, 9.43009081e-01,\n",
       "       9.41868888e-01, 9.40334517e-01, 9.39942504e-01, 9.39553075e-01,\n",
       "       9.27606028e-01, 9.21135928e-01, 9.19182558e-01, 9.17329292e-01,\n",
       "       9.12576957e-01, 9.09523815e-01, 8.95255873e-01, 8.94401428e-01,\n",
       "       8.86666889e-01, 8.82205251e-01, 8.79518710e-01, 8.74077839e-01,\n",
       "       8.68061459e-01, 8.54208058e-01, 8.33000069e-01, 8.31044822e-01,\n",
       "       8.26000899e-01, 8.17713739e-01, 8.00263372e-01, 7.96442588e-01,\n",
       "       7.93989729e-01, 7.38935658e-01, 7.31348243e-01, 7.31041050e-01,\n",
       "       6.97821554e-01, 6.55888948e-01, 6.05190828e-01, 4.42735249e-01,\n",
       "       4.36159067e-01, 4.29117112e-01, 4.24350269e-01, 3.82889474e-01,\n",
       "       3.26779097e-01, 3.15628769e-01, 2.68443154e-01, 2.54331001e-01,\n",
       "       1.73316965e-01, 1.05108025e-01, 9.04264427e-02, 7.65507630e-02,\n",
       "       6.42680562e-02, 5.82145106e-02, 5.44206759e-02, 5.28065907e-02,\n",
       "       4.64887002e-02, 4.55551286e-02, 3.48430904e-02, 3.39920954e-02,\n",
       "       3.16072627e-02, 2.77741696e-02, 2.67208228e-02, 2.54471223e-02,\n",
       "       2.36680104e-02, 1.78033634e-02, 1.60687488e-02, 1.54612412e-02,\n",
       "       1.31644674e-02, 1.08460448e-02, 1.02994838e-02, 9.64458270e-03,\n",
       "       7.13077636e-03, 6.91269151e-03, 6.76875228e-03, 6.13593472e-03,\n",
       "       4.80812603e-03, 4.35802364e-03, 4.03629993e-03, 2.57914326e-03,\n",
       "       1.97439215e-03, 1.58015431e-03, 9.40098112e-04, 8.90369551e-04,\n",
       "       6.76644097e-04, 6.53972914e-04, 5.95742203e-04, 5.79528494e-04,\n",
       "       5.76878563e-04, 4.14792894e-04, 4.13206022e-04, 3.61065983e-04,\n",
       "       3.17267056e-04, 1.45776193e-04, 1.35069035e-04, 1.03453172e-04,\n",
       "       5.45196476e-05, 4.09461731e-05, 1.33418143e-05, 4.22943927e-06,\n",
       "       9.63404691e-08, 8.34788255e-08, 3.25728394e-09, 3.58728187e-12])"
      ]
     },
     "execution_count": 26,
     "metadata": {},
     "output_type": "execute_result"
    }
   ],
   "source": [
    "#Ranked list of probabilities\n",
    "np.sort(y_score[:,1])[::-1]"
   ]
  },
  {
   "cell_type": "markdown",
   "metadata": {},
   "source": [
    "**Area under ROC Curve**\n",
    "\n",
    "The area under the ROC curve is 0.99 which means that within the above ranking list, if we randomly choose a cell that is malignant and randomly choose a cell that is benign, theer is a 99% probability that the cell that is malignant will be ranked higher than the cell that is begin. This is a very high value for AUC, highest so far compared to other classifiers."
   ]
  },
  {
   "cell_type": "code",
   "execution_count": 27,
   "metadata": {},
   "outputs": [
    {
     "data": {
      "image/png": "[encoded data removed]",
      "text/plain": [
       "<Figure size 432x288 with 1 Axes>"
      ]
     },
     "metadata": {
      "needs_background": "light"
     },
     "output_type": "display_data"
    }
   ],
   "source": [
    "# Plot the lift curve\n",
    "skplt.metrics.plot_lift_curve(y_test, y_score, title = 'Lift Curve\\nLogistic')\n",
    "plt.show()"
   ]
  },
  {
   "cell_type": "markdown",
   "metadata": {},
   "source": [
    "The lift curve tells us that as compared to random guess, our knn classifier classifies mallignant cells about 1.55x better at 0.5 as the threshold which is chosen by default. We can also chose a threshold close to 0.6"
   ]
  },
  {
   "cell_type": "markdown",
   "metadata": {},
   "source": [
    "## 4. SVM"
   ]
  },
  {
   "cell_type": "code",
   "execution_count": 28,
   "metadata": {},
   "outputs": [
    {
     "name": "stdout",
     "output_type": "stream",
     "text": [
      "Training Accuracy:  0.989501312335958\n",
      "Testing Accuracy:  0.9574468085106383\n",
      "Confusion Matrix: - \n",
      " [[ 61   7]\n",
      " [  1 119]]\n",
      "\n",
      "Classification Report: - \n",
      "               precision    recall  f1-score   support\n",
      "\n",
      "           0       0.98      0.90      0.94        68\n",
      "           1       0.94      0.99      0.97       120\n",
      "\n",
      "   micro avg       0.96      0.96      0.96       188\n",
      "   macro avg       0.96      0.94      0.95       188\n",
      "weighted avg       0.96      0.96      0.96       188\n",
      "\n"
     ]
    }
   ],
   "source": [
    "model = SVC(kernel = 'linear', random_state = 45)\n",
    "\n",
    "# feeding the training data into the model\n",
    "model.fit(X_train, y_train)\n",
    "\n",
    "# predicting the values for x-test\n",
    "y_pred = model.predict(X_test)\n",
    "\n",
    "# finding the training and testing accuracy\n",
    "print(\"Training Accuracy: \",model.score(X_train, y_train))\n",
    "print(\"Testing Accuracy: \", model.score(X_test, y_test))\n",
    "\n",
    "print(\"Confusion Matrix: - \\n\",confusion_matrix(y_test, y_pred))\n",
    "print()\n",
    "print(\"Classification Report: - \\n\",classification_report(y_test, y_pred))"
   ]
  },
  {
   "cell_type": "markdown",
   "metadata": {},
   "source": [
    "### Tuning parameters - Nested CV & Grid search\n",
    "\n",
    "To search for the best parameters, we run a nested cross validation with grid search with the following hyper parameters\n",
    "\n",
    "1. C: This heps us introduce soft margin to the SVM classification, allowing for outliers. Larger the C, smaller number of errors are allowed. It is a way of controlling overfitting - by making C smaller, we allow some outliers\n",
    "\n",
    "2. gamma: For the gaussian rbf kernel trick, we cna specify the number of neighbours that the svm classifier will look at for deciding the boundaires. A large gamma value indicates looking at few neighbours and cna lead to overfitting the model. A small gamma value leads to looking at a large number of neighbours.\n",
    "\n",
    "3. kernel trick: for data points that are linearly seperable, we can use the linear kernel and rbf kernel is for guassian distribution. We add these to the gridsearch to see which is better for our classification problem."
   ]
  },
  {
   "cell_type": "code",
   "execution_count": 29,
   "metadata": {},
   "outputs": [],
   "source": [
    "Cs = [0.01, 0.1, 1, 10, 100]\n",
    "gammas = [0.001, 0.01, 0.1, 1]\n",
    "kernels = ['linear','rbf']\n",
    "param_grid = {'kernel':kernels,'C': Cs, 'gamma' : gammas}\n",
    "\n",
    "model = SVC(probability=True,random_state = 45)\n",
    "\n",
    "inner_cv = KFold(n_splits=4, shuffle=True, random_state=45)\n",
    "outer_cv = KFold(n_splits=4, shuffle=True, random_state=45)\n",
    "\n",
    "grid_svm = GridSearchCV(model, param_grid, cv = inner_cv, scoring='f1',n_jobs=-1)\n",
    "grid_svm.fit(X_train,y_train)\n",
    "\n",
    "# Nested CV with parameter optimization\n",
    "nested_score = cross_val_score(grid_svm, bc.data, bc.target, cv=outer_cv)"
   ]
  },
  {
   "cell_type": "code",
   "execution_count": 30,
   "metadata": {},
   "outputs": [
    {
     "name": "stdout",
     "output_type": "stream",
     "text": [
      "Using Nested CV with grid search, we acheive accuracy: 95.79% +/- 1.32%\n",
      "\n",
      "The best hyper-parameters to get these accuracy are :-\n",
      " {'C': 1, 'gamma': 0.001, 'kernel': 'linear'}\n",
      "\n",
      "The best SVM classifier is :-\n",
      " SVC(C=1, cache_size=200, class_weight=None, coef0=0.0,\n",
      "  decision_function_shape='ovr', degree=3, gamma=0.001, kernel='linear',\n",
      "  max_iter=-1, probability=True, random_state=45, shrinking=True,\n",
      "  tol=0.001, verbose=False)\n",
      "Confusion Matrix: - \n",
      " [[ 61   7]\n",
      " [  1 119]]\n",
      "\n",
      "Classification Report: - \n",
      "               precision    recall  f1-score   support\n",
      "\n",
      "           0       0.98      0.90      0.94        68\n",
      "           1       0.94      0.99      0.97       120\n",
      "\n",
      "   micro avg       0.96      0.96      0.96       188\n",
      "   macro avg       0.96      0.94      0.95       188\n",
      "weighted avg       0.96      0.96      0.96       188\n",
      "\n"
     ]
    }
   ],
   "source": [
    "print(\"Using Nested CV with grid search, we acheive accuracy: {0:.2%} +/- {1:.2%}\".format(nested_score.mean(), nested_score.std()))\n",
    "print()\n",
    "print (\"The best hyper-parameters to get these accuracy are :-\\n\", grid_svm.best_params_)\n",
    "print()\n",
    "print (\"The best SVM classifier is :-\\n\", grid_svm.best_estimator_)\n",
    "y_pred = grid_svm.best_estimator_.predict(X_test)\n",
    "#plot_confusion_matrix(y_test, y_pred, classes=bc.target_names,title='Confusion matrix')\n",
    "print(\"Confusion Matrix: - \\n\",confusion_matrix(y_test, y_pred))\n",
    "print()\n",
    "print(\"Classification Report: - \\n\",classification_report(y_test, y_pred))"
   ]
  },
  {
   "cell_type": "markdown",
   "metadata": {},
   "source": [
    "### Goodness of fit\n",
    "\n",
    "SVM grid search with nested cross validation tells us that the best parameters are **Kernel: Linear, C: 1, gamma: 0.001**\n",
    "\n",
    "This gives us a high precision and recall of 96%, accuracy of 95.79% +/- 1.32% and a **good f1-score of 96%**. This is lower than the accuracy and f1-score received with Logistic regression, but the standard deviation in accuracy is lower in SVM which is good.\n",
    "\n",
    "However, we have a high number of false negatives (7) which is not good for our use case"
   ]
  },
  {
   "cell_type": "code",
   "execution_count": null,
   "metadata": {},
   "outputs": [],
   "source": [
    "# Since probability hyper parameter is set to true, \n",
    "# svc overlays logistic regression over the svm classification to prodict probability\n",
    "y_score = grid_svm.best_estimator_.predict_proba(X_test)\n",
    "\n",
    "fpr, tpr, _ = roc_curve(y_test, y_score[:,1])\n",
    "roc_auc = auc(fpr, tpr)\n",
    "\n",
    "plt.figure()\n",
    "plt.plot(fpr, tpr, color='darkorange',\n",
    "         lw=2, label='Area under Curve = %0.2f' % roc_auc)\n",
    "plt.plot([0, 1], [0, 1], color='navy', linestyle='--')\n",
    "plt.xlim([0.0, 1.0])\n",
    "plt.ylim([0.0, 1.05])\n",
    "plt.xlabel('False Positive Rate')\n",
    "plt.ylabel('True Positive Rate')\n",
    "plt.title('ROC Curve\\nSVM')\n",
    "plt.legend(loc=\"lower right\")\n",
    "plt.show()"
   ]
  },
  {
   "cell_type": "markdown",
   "metadata": {},
   "source": [
    "For this use case, it is crucial to have the cancerour cells classified correctly. Therefore having a high sensitivity i.e. true positive rate (by minimizing false negatives) is more important than decreasing specificity i.e. false positive rate. It is okay to have some false positives as they would be identified as non-cancerous in later stages of diagnosis. Therefore, we should choose a threshold which maximizes false positive rate."
   ]
  },
  {
   "cell_type": "code",
   "execution_count": null,
   "metadata": {},
   "outputs": [],
   "source": [
    "#Ranked list of probabilities\n",
    "np.sort(y_score[:,1])[::-1]"
   ]
  },
  {
   "cell_type": "markdown",
   "metadata": {},
   "source": [
    "**Area under ROC Curve**\n",
    "\n",
    "The area under the ROC curve is 0.99 which means that within the above ranking list, if we randomly choose a cell that is malignant and randomly choose a cell that is benign, theer is a 99% probability that the cell that is malignant will be ranked higher than the cell that is begin. This is a very high value for AUC, highest so far compared to other classifiers."
   ]
  },
  {
   "cell_type": "code",
   "execution_count": null,
   "metadata": {},
   "outputs": [],
   "source": [
    "# Plot the lift curve\n",
    "skplt.metrics.plot_lift_curve(y_test, y_score, title = 'Lift Curve\\nSVM')\n",
    "plt.show()"
   ]
  },
  {
   "cell_type": "markdown",
   "metadata": {},
   "source": [
    "The lift curve tells us that as compared to random guess, our knn classifier classifies mallignant cells about 1.55x better at 0.5 as the threshold which is chosen by default. We can also chose a threshold close to 0.6"
   ]
  },
  {
   "cell_type": "markdown",
   "metadata": {},
   "source": [
    "## Model Selection\n",
    "\n",
    "**Comparing all the models that have been analyzed so far:-**\n",
    "\n",
    "| Model                   |   Best Parameters <br />(Using NestedCV with GridSearchCV)   |             Accuracy | F1 Score | Number of False Negatives | Area Under ROC Curve |\n",
    "| :---------------------- | :----------------------------------------------------------: | -------------------: | -------: | ------------------------: | -------------------: |\n",
    "| Decision Tree           | criterion: gini<br />max_depth: 4<br />min_impurity_decrease: 0<br /> min_samples_leaf: 5 |     94.12% +/- 0.70% |      96% |                         6 |                 0.98 |\n",
    "| K Nearest Neighbours    |            n_neighbors: 8<br /> weights: distance            |     94.35% +/- 0.78% |      97% |                         5 |                 0.98 |\n",
    "| **Logistic Regression** |                   C: 0.09<br />penalty: l2                   | **97.32% +/- 1.57%** |  **98%** |                     **3** |             **0.99** |\n",
    "| SVM                     |                   kernel: linear <br />C: 1<br /> gamma: 0.001                    |     95.79% +/- 1.32% |  96% |                         7 |                 **0.99** |"
   ]
  },
  {
   "cell_type": "markdown",
   "metadata": {},
   "source": [
    "As we can see from the above table, **Logistic Regression** gives us the highest F1-Score of 98% with a high accuracy of 97.32% +/- 1.57%. Even though the standard deviation is higher in logistic regression, we choose this for classification due to the high F1-Score, low number of false negatives and highest area under the ROC curve.\n",
    "\n",
    "Being a medical case, **False Negatives** can be a big problem as it is a matter of life and death.  **Logistic Regression** with C: 0.09 penalty: l2 hyper parameters, also acheives a minimum number of false negatives (of 3) as seen in the confusion matrix. For these results, we use regularization by a L2 penalty and a C parameter value = 0.09.\n",
    "\n",
    "The area under the ROC curve is high for all the classifiers. In our case, since we want to minimize false negatives, the true positive rate should be high and a large area under the ROC curve is good for this. We get an area of 0.99 for both Logistic and SVM indicating that if we randomly choose a cell that is malignant and randomly choose a cell that is benign, theer is a 99% probability that the cell that is malignant will be ranked higher than the cell that is begin.\n",
    "\n",
    "Based on the above analyses, we can conculde that among the 4 models discussed, **Logistic regression** gives us the best fit for classifying breast cancer cells and **malignant or benign**."
   ]
  }
 ],
 "metadata": {
  "anaconda-cloud": {},
  "kernelspec": {
   "display_name": "Python 3",
   "language": "python",
   "name": "python3"
  },
  "language_info": {
   "codemirror_mode": {
    "name": "ipython",
    "version": 3
   },
   "file_extension": ".py",
   "mimetype": "text/x-python",
   "name": "python",
   "nbconvert_exporter": "python",
   "pygments_lexer": "ipython3",
   "version": "3.7.3"
  }
 },
 "nbformat": 4,
 "nbformat_minor": 2
}
